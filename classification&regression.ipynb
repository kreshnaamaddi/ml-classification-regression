{
 "cells": [
  {
   "cell_type": "code",
   "execution_count": 3,
   "id": "9b41c3f6-2126-4482-a246-9e42f7ebb85e",
   "metadata": {},
   "outputs": [
    {
     "name": "stdout",
     "output_type": "stream",
     "text": [
      "Loan Approval Prediction: Approved\n",
      "Training Accuracy: 1.0\n"
     ]
    }
   ],
   "source": [
    "import numpy as np\n",
    "import pandas as pd\n",
    "from sklearn.svm import SVC\n",
    "from sklearn.model_selection import train_test_split\n",
    "from sklearn.preprocessing import StandardScaler\n",
    "from sklearn.metrics import accuracy_score\n",
    "\n",
    "\n",
    "data = np.array([\n",
    "    [15, 750, 5, 10, 1],\n",
    "    [12, 680, 4, 8, 0],\n",
    "    [20, 800, 6, 12, 1],\n",
    "    [10, 600, 3, 5, 0],\n",
    "    [18, 770, 5, 10, 1],\n",
    "    [11, 650, 4, 6, 0],\n",
    "    [22, 820, 7, 15, 1],\n",
    "    [13, 700, 5, 8, 0],\n",
    "    [19, 780, 6, 10, 1],\n",
    "    [14, 710, 4, 7, 0]\n",
    "])\n",
    "\n",
    "\n",
    "df = pd.DataFrame(data, columns=[\"Income\", \"Credit Score\", \"Loan Amount\", \"Employment Length\", \"Approved\"])\n",
    "\n",
    "\n",
    "X = df.iloc[:, :-1]  \n",
    "y = df.iloc[:, -1]   \n",
    "\n",
    "# Scaling features\n",
    "scaler = StandardScaler()\n",
    "X_scaled = scaler.fit_transform(X)\n",
    "\n",
    "# Train-test split\n",
    "X_train, X_test, y_train, y_test = train_test_split(X_scaled, y, test_size=0.2, random_state=42)\n",
    "\n",
    "# Train SVM model\n",
    "svm_model = SVC(kernel='rbf', gamma='scale', C=1.0)\n",
    "svm_model.fit(X_train, y_train)\n",
    "\n",
    "\n",
    "new_applicant = np.array([[16, 760, 5, 9]])\n",
    "new_applicant_df = pd.DataFrame(new_applicant, columns=[\"Income\", \"Credit Score\", \"Loan Amount\", \"Employment Length\"])\n",
    "new_applicant_scaled = scaler.transform(new_applicant_df)\n",
    "prediction = svm_model.predict(new_applicant_scaled)\n",
    "\n",
    "print(\"Loan Approval Prediction:\", \"Approved\" if prediction[0] == 1 else \"Not Approved\")\n",
    "\n",
    "# Model Evaluation\n",
    "y_pred = svm_model.predict(X_test)\n",
    "accuracy = accuracy_score(y_test, y_pred)\n",
    "print(\"Training Accuracy:\", accuracy)\n"
   ]
  },
  {
   "cell_type": "code",
   "execution_count": 9,
   "id": "bf243fa2-72f2-4513-bd8c-8b4bdaaf6d9e",
   "metadata": {},
   "outputs": [
    {
     "name": "stdout",
     "output_type": "stream",
     "text": [
      "Predicted Salary: 8.4 lakhs\n",
      "Mean Squared Error: 0.008571428571428518\n"
     ]
    }
   ],
   "source": [
    "import numpy as np\n",
    "import pandas as pd\n",
    "from sklearn.preprocessing import PolynomialFeatures\n",
    "from sklearn.linear_model import LinearRegression\n",
    "from sklearn.metrics import mean_squared_error\n",
    "\n",
    "\n",
    "data = np.array([\n",
    "    [5, 7, 8, 8],\n",
    "    [3, 6, 7, 6],\n",
    "    [10, 9, 9, 15],\n",
    "    [2, 5, 6, 5],\n",
    "    [7, 8, 8, 10],\n",
    "    [4, 6, 7, 7],\n",
    "    [12, 9, 9, 18],\n",
    "    [6, 7, 8, 9],\n",
    "    [8, 8, 9, 12],\n",
    "    [1, 5, 6, 4]])\n",
    "\n",
    "\n",
    "df = pd.DataFrame(data, columns=[\"Years Experience\", \"Education Level\", \"Performance Score\", \"Salary\"])\n",
    "\n",
    "# Splitting data\n",
    "X = df.iloc[:, :-1] \n",
    "y = df.iloc[:, -1]  \n",
    "\n",
    "\n",
    "degree = 2 \n",
    "poly = PolynomialFeatures(degree=degree)\n",
    "X_poly = poly.fit_transform(X)\n",
    "\n",
    "# Train model\n",
    "model = LinearRegression()\n",
    "model.fit(X_poly, y)\n",
    "\n",
    "\n",
    "new_employee = np.array([[6, 8, 8]])\n",
    "new_employee_df = pd.DataFrame(new_employee, columns=[\"Years Experience\", \"Education Level\", \"Performance Score\"])\n",
    "new_employee_poly = poly.transform(new_employee_df)\n",
    "salary_prediction = model.predict(new_employee_poly)\n",
    "\n",
    "print(\"Predicted Salary:\", round(salary_prediction[0], 2), \"lakhs\")\n",
    "\n",
    "# Model Evaluation\n",
    "y_pred = model.predict(X_poly)\n",
    "mse = mean_squared_error(y, y_pred)\n",
    "print(\"Mean Squared Error:\", mse)\n"
   ]
  },
  {
   "cell_type": "code",
   "execution_count": null,
   "id": "4800cefb-bc84-4ff7-9191-ca272c774b0c",
   "metadata": {},
   "outputs": [],
   "source": []
  }
 ],
 "metadata": {
  "kernelspec": {
   "display_name": "Python 3 (ipykernel)",
   "language": "python",
   "name": "python3"
  },
  "language_info": {
   "codemirror_mode": {
    "name": "ipython",
    "version": 3
   },
   "file_extension": ".py",
   "mimetype": "text/x-python",
   "name": "python",
   "nbconvert_exporter": "python",
   "pygments_lexer": "ipython3",
   "version": "3.12.4"
  }
 },
 "nbformat": 4,
 "nbformat_minor": 5
}
